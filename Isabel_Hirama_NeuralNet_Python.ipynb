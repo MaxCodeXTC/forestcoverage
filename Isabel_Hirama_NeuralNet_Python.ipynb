{
 "cells": [
  {
   "cell_type": "markdown",
   "metadata": {},
   "source": [
    "<center><h1>Predicting Tree Coverage in Colorado Wilderness Areas</h1><br></center>\n",
    "<center><h3>Isabel Hirama</h3><br></center>"
   ]
  },
  {
   "cell_type": "markdown",
   "metadata": {},
   "source": [
    "<h2>Objectives</h2><br>\n",
    "The broad objective of this project is to create a neural network model using sklearn to classify types of tree\n",
    "coverage - a seven-level variable - at geographical points in one of four wilderness areas in Colorado, based on natural\n",
    "features at that point.<br><br>\n",
    "The specific objective of the code below is to demonstrate two simple tuning methods: a for-loop that varies a single parameter, and sklearn's Grid Search, which tests combinations of levels of multiple parameters."
   ]
  },
  {
   "cell_type": "markdown",
   "metadata": {},
   "source": [
    "<h2>Data Characteristics</h2><br>\n",
    "The <a href=\"https://www.kaggle.com/uciml/forest-cover-type-dataset\">full Kaggle dataset </a> consists of 581,012 observations of thirteen natural\n",
    "characteristics of thirty-by-thirty meter sections of four wilderness areas in Colorado’s Roosevelt\n",
    "National Forest. Of the observations, 29,884 were in the Neota wilderness area (area 2) and were used\n",
    "for training and testing the model below.<br><br>\n",
    "Categorical input features with more than two levels, such\n",
    "as soil type (40 levels), are represented as sets of binary variables, one for each level. This results in a total of 50 input variables used in the model.<br><br>\n",
    "The features are as follows:\n",
    "- <b>[Target] Cover type:</b> (7 tree types, represented by integers 1 through 7)\n",
    "- <b>Elevation:</b> in meters\n",
    "- <b>Aspect:</b>  in degrees azimuth\n",
    "- <b>Slope:</b> in degrees\n",
    "- <b>Horizontal distance to hydrology:</b> meters to nearest water feature\n",
    "- <b>Vertical distance to hydrology:</b> meters to nearest water feature\n",
    "- <b>Horizontal Distance to Roadways:</b> in meters\n",
    "- <b>Hillshade 9am:</b> measured on the summer solstice, index from 0 to 255\n",
    "- <b>Hillshade Noon:</b> measured on the summer solstice, index from 0 to 255\n",
    "- <b>Hillshade 3pm:</b> measured on the summer solstice, index from 0 to 255\n",
    "- <b>Horizontal Distance to Fire Points:</b> in meters, distance to wildfire ignition points\n",
    "- <b>Wilderness Area:</b> 4 binary columns, for Rawah, Neota, Comanche Peak, and Cache la Poudre areas\n",
    "- <b>Soil Type:</b> 40 binary columns (1 if soil type is present)\n"
   ]
  },
  {
   "cell_type": "markdown",
   "metadata": {},
   "source": [
    "<h2>Script</h2>"
   ]
  },
  {
   "cell_type": "markdown",
   "metadata": {},
   "source": [
    "<h3>Import packages and data</h3>"
   ]
  },
  {
   "cell_type": "code",
   "execution_count": 1,
   "metadata": {
    "collapsed": false
   },
   "outputs": [
    {
     "name": "stderr",
     "output_type": "stream",
     "text": [
      "WARNING (theano.sandbox.cuda): The cuda backend is deprecated and will be removed in the next release (v0.10).  Please switch to the gpuarray backend. You can get more information about how to switch at this URL:\n",
      " https://github.com/Theano/Theano/wiki/Converting-to-the-new-gpu-back-end%28gpuarray%29\n",
      "\n",
      "Using gpu device 0: GeForce GTX 965M (CNMeM is enabled with initial size: 80.0% of memory, cuDNN 5110)\n",
      "C:\\Users\\isabe\\Python-Anaconda2\\lib\\site-packages\\sklearn\\cross_validation.py:44: DeprecationWarning: This module was deprecated in version 0.18 in favor of the model_selection module into which all the refactored classes and functions are moved. Also note that the interface of the new CV iterators are different from that of this module. This module will be removed in 0.20.\n",
      "  \"This module will be removed in 0.20.\", DeprecationWarning)\n",
      "C:\\Users\\isabe\\Python-Anaconda2\\lib\\site-packages\\sklearn\\grid_search.py:43: DeprecationWarning: This module was deprecated in version 0.18 in favor of the model_selection module into which all the refactored classes and functions are moved. This module will be removed in 0.20.\n",
      "  DeprecationWarning)\n"
     ]
    }
   ],
   "source": [
    "#Imports\n",
    "import numpy as np\n",
    "from sknn.mlp import Classifier, Layer\n",
    "from sklearn import preprocessing\n",
    "from sklearn.metrics import accuracy_score \n",
    "from sklearn.model_selection import train_test_split\n",
    "from sklearn.model_selection import cross_val_score\n",
    "from sklearn import model_selection\n",
    "from sklearn.grid_search import GridSearchCV\n",
    "from random import sample\n",
    "import pandas as pd\n",
    "import matplotlib.pyplot as plt \n",
    "import time\n",
    "import sys\n",
    "import logging\n",
    "import csv\n",
    "import warnings\n"
   ]
  },
  {
   "cell_type": "code",
   "execution_count": 2,
   "metadata": {
    "collapsed": true
   },
   "outputs": [],
   "source": [
    "#Hide further depreciation warnings\n",
    "warnings.simplefilter(\"ignore\", category=DeprecationWarning)\n",
    "\n",
    "#Set vocal settings\n",
    "logging.basicConfig(\n",
    "            format=\"%(message)s\",\n",
    "            level=logging.INFO,\n",
    "            stream=sys.stdout)"
   ]
  },
  {
   "cell_type": "code",
   "execution_count": 3,
   "metadata": {
    "collapsed": false
   },
   "outputs": [
    {
     "name": "stdout",
     "output_type": "stream",
     "text": [
      "Area 1: (260796, 51)\n",
      "Area 2: (29884, 51)\n",
      "Area 3: (253364, 51)\n",
      "Area 4: (36968, 51)\n"
     ]
    }
   ],
   "source": [
    "################ Prepare Data ############################\n",
    "\n",
    "#Import data for four wilderness areas\n",
    "area1 = pd.read_csv(\"forest_area_1.csv\",\n",
    "                   delimiter = ',', header=0)\n",
    "                   \n",
    "area2 = pd.read_csv(\"forest_area_2.csv\",\n",
    "                   delimiter = ',', header=0)                   \n",
    "                   \n",
    "area3 = pd.read_csv(\"forest_area_3.csv\",\n",
    "                   delimiter = ',', header=0)\n",
    "\n",
    "area4 = pd.read_csv(\"forest_area_4.csv\",\n",
    "                   delimiter = ',', header=0)\n",
    "\n",
    "print \"Area 1:\", area1.shape\n",
    "print \"Area 2:\", area2.shape\n",
    "print \"Area 3:\", area3.shape\n",
    "print \"Area 4:\", area4.shape\n",
    "                   "
   ]
  },
  {
   "cell_type": "code",
   "execution_count": 4,
   "metadata": {
    "collapsed": false
   },
   "outputs": [
    {
     "data": {
      "text/html": [
       "<div>\n",
       "<table border=\"1\" class=\"dataframe\">\n",
       "  <thead>\n",
       "    <tr style=\"text-align: right;\">\n",
       "      <th></th>\n",
       "      <th>Elevation</th>\n",
       "      <th>Aspect</th>\n",
       "      <th>Slope</th>\n",
       "      <th>Horizontal_Distance_To_Hydrology</th>\n",
       "      <th>Vertical_Distance_To_Hydrology</th>\n",
       "      <th>Horizontal_Distance_To_Roadways</th>\n",
       "      <th>Hillshade_9am</th>\n",
       "      <th>Hillshade_Noon</th>\n",
       "      <th>Hillshade_3pm</th>\n",
       "      <th>Horizontal_Distance_To_Fire_Points</th>\n",
       "      <th>...</th>\n",
       "      <th>Soil_Type32</th>\n",
       "      <th>Soil_Type33</th>\n",
       "      <th>Soil_Type34</th>\n",
       "      <th>Soil_Type35</th>\n",
       "      <th>Soil_Type36</th>\n",
       "      <th>Soil_Type37</th>\n",
       "      <th>Soil_Type38</th>\n",
       "      <th>Soil_Type39</th>\n",
       "      <th>Soil_Type40</th>\n",
       "      <th>Cover_Type</th>\n",
       "    </tr>\n",
       "  </thead>\n",
       "  <tbody>\n",
       "    <tr>\n",
       "      <th>0</th>\n",
       "      <td>2596</td>\n",
       "      <td>51</td>\n",
       "      <td>3</td>\n",
       "      <td>258</td>\n",
       "      <td>0</td>\n",
       "      <td>510</td>\n",
       "      <td>221</td>\n",
       "      <td>232</td>\n",
       "      <td>148</td>\n",
       "      <td>6279</td>\n",
       "      <td>...</td>\n",
       "      <td>0</td>\n",
       "      <td>0</td>\n",
       "      <td>0</td>\n",
       "      <td>0</td>\n",
       "      <td>0</td>\n",
       "      <td>0</td>\n",
       "      <td>0</td>\n",
       "      <td>0</td>\n",
       "      <td>0</td>\n",
       "      <td>5</td>\n",
       "    </tr>\n",
       "    <tr>\n",
       "      <th>1</th>\n",
       "      <td>2590</td>\n",
       "      <td>56</td>\n",
       "      <td>2</td>\n",
       "      <td>212</td>\n",
       "      <td>-6</td>\n",
       "      <td>390</td>\n",
       "      <td>220</td>\n",
       "      <td>235</td>\n",
       "      <td>151</td>\n",
       "      <td>6225</td>\n",
       "      <td>...</td>\n",
       "      <td>0</td>\n",
       "      <td>0</td>\n",
       "      <td>0</td>\n",
       "      <td>0</td>\n",
       "      <td>0</td>\n",
       "      <td>0</td>\n",
       "      <td>0</td>\n",
       "      <td>0</td>\n",
       "      <td>0</td>\n",
       "      <td>5</td>\n",
       "    </tr>\n",
       "    <tr>\n",
       "      <th>2</th>\n",
       "      <td>2804</td>\n",
       "      <td>139</td>\n",
       "      <td>9</td>\n",
       "      <td>268</td>\n",
       "      <td>65</td>\n",
       "      <td>3180</td>\n",
       "      <td>234</td>\n",
       "      <td>238</td>\n",
       "      <td>135</td>\n",
       "      <td>6121</td>\n",
       "      <td>...</td>\n",
       "      <td>0</td>\n",
       "      <td>0</td>\n",
       "      <td>0</td>\n",
       "      <td>0</td>\n",
       "      <td>0</td>\n",
       "      <td>0</td>\n",
       "      <td>0</td>\n",
       "      <td>0</td>\n",
       "      <td>0</td>\n",
       "      <td>2</td>\n",
       "    </tr>\n",
       "    <tr>\n",
       "      <th>3</th>\n",
       "      <td>2785</td>\n",
       "      <td>155</td>\n",
       "      <td>18</td>\n",
       "      <td>242</td>\n",
       "      <td>118</td>\n",
       "      <td>3090</td>\n",
       "      <td>238</td>\n",
       "      <td>238</td>\n",
       "      <td>122</td>\n",
       "      <td>6211</td>\n",
       "      <td>...</td>\n",
       "      <td>0</td>\n",
       "      <td>0</td>\n",
       "      <td>0</td>\n",
       "      <td>0</td>\n",
       "      <td>0</td>\n",
       "      <td>0</td>\n",
       "      <td>0</td>\n",
       "      <td>0</td>\n",
       "      <td>0</td>\n",
       "      <td>2</td>\n",
       "    </tr>\n",
       "    <tr>\n",
       "      <th>4</th>\n",
       "      <td>2595</td>\n",
       "      <td>45</td>\n",
       "      <td>2</td>\n",
       "      <td>153</td>\n",
       "      <td>-1</td>\n",
       "      <td>391</td>\n",
       "      <td>220</td>\n",
       "      <td>234</td>\n",
       "      <td>150</td>\n",
       "      <td>6172</td>\n",
       "      <td>...</td>\n",
       "      <td>0</td>\n",
       "      <td>0</td>\n",
       "      <td>0</td>\n",
       "      <td>0</td>\n",
       "      <td>0</td>\n",
       "      <td>0</td>\n",
       "      <td>0</td>\n",
       "      <td>0</td>\n",
       "      <td>0</td>\n",
       "      <td>5</td>\n",
       "    </tr>\n",
       "  </tbody>\n",
       "</table>\n",
       "<p>5 rows × 51 columns</p>\n",
       "</div>"
      ],
      "text/plain": [
       "   Elevation  Aspect  Slope  Horizontal_Distance_To_Hydrology  \\\n",
       "0       2596      51      3                               258   \n",
       "1       2590      56      2                               212   \n",
       "2       2804     139      9                               268   \n",
       "3       2785     155     18                               242   \n",
       "4       2595      45      2                               153   \n",
       "\n",
       "   Vertical_Distance_To_Hydrology  Horizontal_Distance_To_Roadways  \\\n",
       "0                               0                              510   \n",
       "1                              -6                              390   \n",
       "2                              65                             3180   \n",
       "3                             118                             3090   \n",
       "4                              -1                              391   \n",
       "\n",
       "   Hillshade_9am  Hillshade_Noon  Hillshade_3pm  \\\n",
       "0            221             232            148   \n",
       "1            220             235            151   \n",
       "2            234             238            135   \n",
       "3            238             238            122   \n",
       "4            220             234            150   \n",
       "\n",
       "   Horizontal_Distance_To_Fire_Points     ...      Soil_Type32  Soil_Type33  \\\n",
       "0                                6279     ...                0            0   \n",
       "1                                6225     ...                0            0   \n",
       "2                                6121     ...                0            0   \n",
       "3                                6211     ...                0            0   \n",
       "4                                6172     ...                0            0   \n",
       "\n",
       "   Soil_Type34  Soil_Type35  Soil_Type36  Soil_Type37  Soil_Type38  \\\n",
       "0            0            0            0            0            0   \n",
       "1            0            0            0            0            0   \n",
       "2            0            0            0            0            0   \n",
       "3            0            0            0            0            0   \n",
       "4            0            0            0            0            0   \n",
       "\n",
       "   Soil_Type39  Soil_Type40  Cover_Type  \n",
       "0            0            0           5  \n",
       "1            0            0           5  \n",
       "2            0            0           2  \n",
       "3            0            0           2  \n",
       "4            0            0           5  \n",
       "\n",
       "[5 rows x 51 columns]"
      ]
     },
     "execution_count": 4,
     "metadata": {},
     "output_type": "execute_result"
    }
   ],
   "source": [
    "area1.head()"
   ]
  },
  {
   "cell_type": "code",
   "execution_count": 5,
   "metadata": {
    "collapsed": false
   },
   "outputs": [],
   "source": [
    "#Choose the dataset to be used for current iteration\n",
    "data = area2                 \n",
    "\n",
    "#Set dependent variable: Cover Type\n",
    "dep_vars = ['Cover_Type']                   \n",
    "dep_data = data[dep_vars]\n",
    "\n",
    "#Set independent variables: all except Cover Type\n",
    "indep_data = data\n",
    "del indep_data[\"Cover_Type\"]"
   ]
  },
  {
   "cell_type": "markdown",
   "metadata": {},
   "source": [
    "<h3>For-Loop</h3>"
   ]
  },
  {
   "cell_type": "code",
   "execution_count": 6,
   "metadata": {
    "collapsed": false
   },
   "outputs": [
    {
     "name": "stdout",
     "output_type": "stream",
     "text": [
      "Starting T =  1\n",
      "Initializing neural network with 3 layers, 50 inputs and 3 outputs.\n",
      "Training on dataset of 14,942 samples with 791,926 total size.\n",
      "Terminating after specified 1 total iterations..............\n",
      "[(14942L, 3L)]\n",
      "sgd test 0.826261544639\n",
      "time:  14.7699999809\n",
      "\n",
      "Starting T =  10\n",
      "Initializing neural network with 3 layers, 50 inputs and 3 outputs.\n",
      "Training on dataset of 14,942 samples with 791,926 total size.\n",
      "Terminating after specified 10 total iterations................................................................................................................................................................................................................................................................................................................................................................................................................................................................................................................................................................\n",
      "[(14942L, 3L)]\n",
      "sgd test 0.922634185517\n",
      "time:  107.70299983\n",
      "\n",
      "Starting T =  50\n",
      "Initializing neural network with 3 layers, 50 inputs and 3 outputs.\n",
      "Training on dataset of 14,942 samples with 791,926 total size.\n",
      "Terminating after specified 50 total iterations........................................................................................................................................................................................................................................................................................................................................................................................................................................................................................................................................................................................................................................................................................................................................................................................................................................................................................................................................................................................................................................................................................................................................................................................................................................................................................................................................................................................................................................................................................................................................................................................................................................................................................................................................................................................................................................................................................................................................................................................................................................................................................................................................................................................................................................................................................................................................................................................................................................................................................................................................................................................................................................................................................................................................................................................................................................................................................................................................................................................................................\n",
      "[(14942L, 3L)]\n",
      "sgd test 0.941373310133\n",
      "time:  521.003999949\n",
      "\n"
     ]
    }
   ],
   "source": [
    "################ Method 1: For-Loop ############################\n",
    "\n",
    "#Use for varying a single parameter\n",
    "\n",
    "#Set up parameters and result lists for for-loop testing\n",
    "results =[]\n",
    "times = []\n",
    "levels = [1,10,50]\n",
    "\n",
    "#For-loop testing. Set parameter being tested as T. Here, epochs (n_iter) is varied. \n",
    "for T in levels:\n",
    "    print 'Starting T = ', T\n",
    "    start_time = time.time()  \n",
    "\n",
    "    #Train/Test Split                \n",
    "    X_train, X_test, Y_train, Y_test = train_test_split(indep_data, dep_data, test_size=.5, random_state=2016)\n",
    "    Y_train = Y_train.as_matrix()\n",
    "    Y_test = Y_test.as_matrix()\n",
    "    \n",
    "    X_trainn = preprocessing.normalize(X_train, norm='l2')\n",
    "    X_testnn = preprocessing.normalize(X_test, norm='l2')\n",
    "\n",
    "    X_trainn = preprocessing.scale(X_trainn)\n",
    "    X_testnn = preprocessing.scale(X_testnn)\n",
    "    \n",
    "    #Build model\n",
    "    clsfr = Classifier(\n",
    "    \tlayers=[  \n",
    "           Layer(\"Rectifier\", units=30),  \n",
    "           Layer(\"Rectifier\", units=30),\n",
    "           Layer(\"Softmax\")], \n",
    "           learning_rate=.01, \n",
    "           learning_rule='sgd',\n",
    "           random_state=100,\n",
    "           n_iter= T, # <---- Parameter being varied \n",
    "           #learning_momentum=T,\n",
    "           #valid_size=T,\n",
    "           verbose = True)\n",
    "    #Fit model\n",
    "    model1=clsfr.fit(X_trainn, Y_train)\n",
    "    \n",
    "    #Predictions\n",
    "    y_hat=clsfr.predict(X_testnn)\n",
    "    \n",
    "    #Print scores\n",
    "    print 'sgd test %s' % accuracy_score(y_hat,Y_test)\n",
    "    end_time = time.time()\n",
    "    times.append((end_time - start_time))\n",
    "    results.append(accuracy_score(y_hat,Y_test))\n",
    "    print 'time: ', (end_time - start_time)\n",
    "    print\n"
   ]
  },
  {
   "cell_type": "code",
   "execution_count": 7,
   "metadata": {
    "collapsed": false
   },
   "outputs": [
    {
     "data": {
      "text/plain": [
       "<function matplotlib.pyplot.show>"
      ]
     },
     "execution_count": 7,
     "metadata": {},
     "output_type": "execute_result"
    },
    {
     "data": {
      "image/png": "[encoded data removed]",
      "text/plain": [
       "<matplotlib.figure.Figure at 0x7daba1d0>"
      ]
     },
     "metadata": {},
     "output_type": "display_data"
    }
   ],
   "source": [
    "# Plot results (accuracy & runtime)\n",
    "%matplotlib inline\n",
    "\n",
    "fig, ax1 = plt.subplots()\n",
    "ax2 = ax1.twinx()\n",
    "ax1.plot(levels, results, 'g')\n",
    "ax2.plot(levels, times, 'b')\n",
    "\n",
    "ax1.set_xlabel('Epochs')\n",
    "ax1.set_ylabel('Accuracy', color='g')\n",
    "ax2.set_ylabel('Run Time (Seconds)', color='b')\n",
    "\n",
    "plt.title('Number of Epoch vs. Accuracy and Run Time')\n",
    "\n",
    "plt.show"
   ]
  },
  {
   "cell_type": "markdown",
   "metadata": {},
   "source": [
    "<h3>Grid Search</h3>"
   ]
  },
  {
   "cell_type": "markdown",
   "metadata": {},
   "source": [
    "<i><b>Note:</b> To save time building the notebook, in the example below only three parameters were varied, with a limited number of levels. Normally, all parameters could be varied.</i>"
   ]
  },
  {
   "cell_type": "code",
   "execution_count": 8,
   "metadata": {
    "collapsed": false,
    "scrolled": true
   },
   "outputs": [
    {
     "name": "stdout",
     "output_type": "stream",
     "text": [
      "\n",
      "\n",
      "Starting Grid Search\n",
      "Fitting 2 folds for each of 8 candidates, totalling 16 fits\n",
      "[CV] n_iter=5, hidden0__units=10, learning_rate=0.005, valid_size=0.25, hidden1__units=10, hidden1__type=Rectifier, hidden0__type=Rectifier \n",
      "Initializing neural network with 3 layers, 50 inputs and 3 outputs.\n",
      "Training on dataset of 7,471 samples with 395,963 total size.\n",
      "Terminating after specified 5 total iterations..............                                                           ...........................................................                                                           ...........................................................                                                           ...........................................................                                                           ...........................................................                                                           \n",
      "[(7471L, 3L)]\n",
      "[CV]  n_iter=5, hidden0__units=10, learning_rate=0.005, valid_size=0.25, hidden1__units=10, hidden1__type=Rectifier, hidden0__type=Rectifier, score=0.850890 -  28.3s\n"
     ]
    },
    {
     "name": "stderr",
     "output_type": "stream",
     "text": [
      "[Parallel(n_jobs=1)]: Done   1 out of   1 | elapsed:   28.3s remaining:    0.0s\n"
     ]
    },
    {
     "name": "stdout",
     "output_type": "stream",
     "text": [
      "[CV] n_iter=5, hidden0__units=10, learning_rate=0.005, valid_size=0.25, hidden1__units=10, hidden1__type=Rectifier, hidden0__type=Rectifier \n",
      "Initializing neural network with 3 layers, 50 inputs and 3 outputs.\n",
      "Training on dataset of 7,471 samples with 395,963 total size.\n",
      "Terminating after specified 5 total iterations..............                                                           ...........................................................                                                           ...........................................................                                                           ...........................................................                                                           ...........................................................                                                           \n",
      "[(7471L, 3L)]\n",
      "[CV]  n_iter=5, hidden0__units=10, learning_rate=0.005, valid_size=0.25, hidden1__units=10, hidden1__type=Rectifier, hidden0__type=Rectifier, score=0.837237 -  29.9s\n"
     ]
    },
    {
     "name": "stderr",
     "output_type": "stream",
     "text": [
      "[Parallel(n_jobs=1)]: Done   2 out of   2 | elapsed:   58.3s remaining:    0.0s\n"
     ]
    },
    {
     "name": "stdout",
     "output_type": "stream",
     "text": [
      "[CV] n_iter=5, hidden0__units=10, learning_rate=0.01, valid_size=0.25, hidden1__units=10, hidden1__type=Rectifier, hidden0__type=Rectifier \n",
      "Initializing neural network with 3 layers, 50 inputs and 3 outputs.\n",
      "Training on dataset of 7,471 samples with 395,963 total size.\n",
      "Terminating after specified 5 total iterations..............                                                           ...........................................................                                                           ...........................................................                                                           ...........................................................                                                           ...........................................................                                                           \n",
      "[(7471L, 3L)]\n",
      "[CV]  n_iter=5, hidden0__units=10, learning_rate=0.01, valid_size=0.25, hidden1__units=10, hidden1__type=Rectifier, hidden0__type=Rectifier, score=0.837103 -  30.0s\n"
     ]
    },
    {
     "name": "stderr",
     "output_type": "stream",
     "text": [
      "[Parallel(n_jobs=1)]: Done   3 out of   3 | elapsed:  1.5min remaining:    0.0s\n"
     ]
    },
    {
     "name": "stdout",
     "output_type": "stream",
     "text": [
      "[CV] n_iter=5, hidden0__units=10, learning_rate=0.01, valid_size=0.25, hidden1__units=10, hidden1__type=Rectifier, hidden0__type=Rectifier \n",
      "Initializing neural network with 3 layers, 50 inputs and 3 outputs.\n",
      "Training on dataset of 7,471 samples with 395,963 total size.\n",
      "Terminating after specified 5 total iterations..............                                                           ...........................................................                                                           ...........................................................                                                           ...........................................................                                                           ...........................................................                                                           \n",
      "[(7471L, 3L)]\n",
      "[CV]  n_iter=5, hidden0__units=10, learning_rate=0.01, valid_size=0.25, hidden1__units=10, hidden1__type=Rectifier, hidden0__type=Rectifier, score=0.836568 -  28.1s\n"
     ]
    },
    {
     "name": "stderr",
     "output_type": "stream",
     "text": [
      "[Parallel(n_jobs=1)]: Done   4 out of   4 | elapsed:  1.9min remaining:    0.0s\n"
     ]
    },
    {
     "name": "stdout",
     "output_type": "stream",
     "text": [
      "[CV] n_iter=5, hidden0__units=10, learning_rate=0.005, valid_size=0.25, hidden1__units=100, hidden1__type=Rectifier, hidden0__type=Rectifier \n",
      "Initializing neural network with 3 layers, 50 inputs and 3 outputs.\n",
      "Training on dataset of 7,471 samples with 395,963 total size.\n",
      "Terminating after specified 5 total iterations..............                                                           ...........................................................                                                           ...........................................................                                                           ...........................................................                                                           ...........................................................                                                           \n",
      "[(7471L, 3L)]\n",
      "[CV]  n_iter=5, hidden0__units=10, learning_rate=0.005, valid_size=0.25, hidden1__units=100, hidden1__type=Rectifier, hidden0__type=Rectifier, score=0.850087 -  28.3s\n"
     ]
    },
    {
     "name": "stderr",
     "output_type": "stream",
     "text": [
      "[Parallel(n_jobs=1)]: Done   5 out of   5 | elapsed:  2.4min remaining:    0.0s\n"
     ]
    },
    {
     "name": "stdout",
     "output_type": "stream",
     "text": [
      "[CV] n_iter=5, hidden0__units=10, learning_rate=0.005, valid_size=0.25, hidden1__units=100, hidden1__type=Rectifier, hidden0__type=Rectifier \n",
      "Initializing neural network with 3 layers, 50 inputs and 3 outputs.\n",
      "Training on dataset of 7,471 samples with 395,963 total size.\n",
      "Terminating after specified 5 total iterations..............                                                           ...........................................................                                                           ...........................................................                                                           ...........................................................                                                           ...........................................................                                                           \n",
      "[(7471L, 3L)]\n",
      "[CV]  n_iter=5, hidden0__units=10, learning_rate=0.005, valid_size=0.25, hidden1__units=100, hidden1__type=Rectifier, hidden0__type=Rectifier, score=0.817829 -  28.1s\n"
     ]
    },
    {
     "name": "stderr",
     "output_type": "stream",
     "text": [
      "[Parallel(n_jobs=1)]: Done   6 out of   6 | elapsed:  2.9min remaining:    0.0s\n"
     ]
    },
    {
     "name": "stdout",
     "output_type": "stream",
     "text": [
      "[CV] n_iter=5, hidden0__units=10, learning_rate=0.01, valid_size=0.25, hidden1__units=100, hidden1__type=Rectifier, hidden0__type=Rectifier \n",
      "Initializing neural network with 3 layers, 50 inputs and 3 outputs.\n",
      "Training on dataset of 7,471 samples with 395,963 total size.\n",
      "Terminating after specified 5 total iterations..............                                                           ...........................................................                                                           ...........................................................                                                           ...........................................................                                                           ...........................................................                                                           \n",
      "[(7471L, 3L)]\n",
      "[CV]  n_iter=5, hidden0__units=10, learning_rate=0.01, valid_size=0.25, hidden1__units=100, hidden1__type=Rectifier, hidden0__type=Rectifier, score=0.868291 -  28.2s\n"
     ]
    },
    {
     "name": "stderr",
     "output_type": "stream",
     "text": [
      "[Parallel(n_jobs=1)]: Done   7 out of   7 | elapsed:  3.4min remaining:    0.0s\n"
     ]
    },
    {
     "name": "stdout",
     "output_type": "stream",
     "text": [
      "[CV] n_iter=5, hidden0__units=10, learning_rate=0.01, valid_size=0.25, hidden1__units=100, hidden1__type=Rectifier, hidden0__type=Rectifier \n",
      "Initializing neural network with 3 layers, 50 inputs and 3 outputs.\n",
      "Training on dataset of 7,471 samples with 395,963 total size.\n",
      "Terminating after specified 5 total iterations..............                                                           ...........................................................                                                           ...........................................................                                                           ...........................................................                                                           ...........................................................                                                           \n",
      "[(7471L, 3L)]\n",
      "[CV]  n_iter=5, hidden0__units=10, learning_rate=0.01, valid_size=0.25, hidden1__units=100, hidden1__type=Rectifier, hidden0__type=Rectifier, score=0.833757 -  28.3s\n"
     ]
    },
    {
     "name": "stderr",
     "output_type": "stream",
     "text": [
      "[Parallel(n_jobs=1)]: Done   8 out of   8 | elapsed:  3.8min remaining:    0.0s\n"
     ]
    },
    {
     "name": "stdout",
     "output_type": "stream",
     "text": [
      "[CV] n_iter=5, hidden0__units=100, learning_rate=0.005, valid_size=0.25, hidden1__units=10, hidden1__type=Rectifier, hidden0__type=Rectifier \n",
      "Initializing neural network with 3 layers, 50 inputs and 3 outputs.\n",
      "Training on dataset of 7,471 samples with 395,963 total size.\n",
      "Terminating after specified 5 total iterations..............                                                           ...........................................................                                                           ...........................................................                                                           ...........................................................                                                           ...........................................................                                                           \n",
      "[(7471L, 3L)]\n",
      "[CV]  n_iter=5, hidden0__units=100, learning_rate=0.005, valid_size=0.25, hidden1__units=10, hidden1__type=Rectifier, hidden0__type=Rectifier, score=0.877526 -  28.2s\n"
     ]
    },
    {
     "name": "stderr",
     "output_type": "stream",
     "text": [
      "[Parallel(n_jobs=1)]: Done   9 out of   9 | elapsed:  4.3min remaining:    0.0s\n"
     ]
    },
    {
     "name": "stdout",
     "output_type": "stream",
     "text": [
      "[CV] n_iter=5, hidden0__units=100, learning_rate=0.005, valid_size=0.25, hidden1__units=10, hidden1__type=Rectifier, hidden0__type=Rectifier \n",
      "Initializing neural network with 3 layers, 50 inputs and 3 outputs.\n",
      "Training on dataset of 7,471 samples with 395,963 total size.\n",
      "Terminating after specified 5 total iterations..............                                                           ...........................................................                                                           ...........................................................                                                           ...........................................................                                                           ...........................................................                                                           \n",
      "[(7471L, 3L)]\n",
      "[CV]  n_iter=5, hidden0__units=100, learning_rate=0.005, valid_size=0.25, hidden1__units=10, hidden1__type=Rectifier, hidden0__type=Rectifier, score=0.840717 -  27.8s\n",
      "[CV] n_iter=5, hidden0__units=100, learning_rate=0.01, valid_size=0.25, hidden1__units=10, hidden1__type=Rectifier, hidden0__type=Rectifier \n",
      "Initializing neural network with 3 layers, 50 inputs and 3 outputs.\n",
      "Training on dataset of 7,471 samples with 395,963 total size.\n",
      "Terminating after specified 5 total iterations..............                                                           ...........................................................                                                           ...........................................................                                                           ...........................................................                                                           ...........................................................                                                           \n",
      "[(7471L, 3L)]\n",
      "[CV]  n_iter=5, hidden0__units=100, learning_rate=0.01, valid_size=0.25, hidden1__units=10, hidden1__type=Rectifier, hidden0__type=Rectifier, score=0.876322 -  28.4s\n",
      "[CV] n_iter=5, hidden0__units=100, learning_rate=0.01, valid_size=0.25, hidden1__units=10, hidden1__type=Rectifier, hidden0__type=Rectifier \n",
      "Initializing neural network with 3 layers, 50 inputs and 3 outputs.\n",
      "Training on dataset of 7,471 samples with 395,963 total size.\n",
      "Terminating after specified 5 total iterations..............                                                           ...........................................................                                                           ...........................................................                                                           ...........................................................                                                           ...........................................................                                                           \n",
      "[(7471L, 3L)]\n",
      "[CV]  n_iter=5, hidden0__units=100, learning_rate=0.01, valid_size=0.25, hidden1__units=10, hidden1__type=Rectifier, hidden0__type=Rectifier, score=0.855709 -  28.3s\n",
      "[CV] n_iter=5, hidden0__units=100, learning_rate=0.005, valid_size=0.25, hidden1__units=100, hidden1__type=Rectifier, hidden0__type=Rectifier \n",
      "Initializing neural network with 3 layers, 50 inputs and 3 outputs.\n",
      "Training on dataset of 7,471 samples with 395,963 total size.\n",
      "Terminating after specified 5 total iterations..............                                                           ...........................................................                                                           ...........................................................                                                           ...........................................................                                                           ...........................................................                                                           \n",
      "[(7471L, 3L)]\n",
      "[CV]  n_iter=5, hidden0__units=100, learning_rate=0.005, valid_size=0.25, hidden1__units=100, hidden1__type=Rectifier, hidden0__type=Rectifier, score=0.886361 -  28.2s\n",
      "[CV] n_iter=5, hidden0__units=100, learning_rate=0.005, valid_size=0.25, hidden1__units=100, hidden1__type=Rectifier, hidden0__type=Rectifier \n",
      "Initializing neural network with 3 layers, 50 inputs and 3 outputs.\n",
      "Training on dataset of 7,471 samples with 395,963 total size.\n",
      "Terminating after specified 5 total iterations..............                                                           ...........................................................                                                           ...........................................................                                                           ...........................................................                                                           ...........................................................                                                           \n",
      "[(7471L, 3L)]\n",
      "[CV]  n_iter=5, hidden0__units=100, learning_rate=0.005, valid_size=0.25, hidden1__units=100, hidden1__type=Rectifier, hidden0__type=Rectifier, score=0.880337 -  28.1s\n",
      "[CV] n_iter=5, hidden0__units=100, learning_rate=0.01, valid_size=0.25, hidden1__units=100, hidden1__type=Rectifier, hidden0__type=Rectifier \n",
      "Initializing neural network with 3 layers, 50 inputs and 3 outputs.\n",
      "Training on dataset of 7,471 samples with 395,963 total size.\n",
      "Terminating after specified 5 total iterations..............                                                           ...........................................................                                                           ...........................................................                                                           ...........................................................                                                           ...........................................................                                                           \n",
      "[(7471L, 3L)]\n",
      "[CV]  n_iter=5, hidden0__units=100, learning_rate=0.01, valid_size=0.25, hidden1__units=100, hidden1__type=Rectifier, hidden0__type=Rectifier, score=0.892384 -  28.1s\n",
      "[CV] n_iter=5, hidden0__units=100, learning_rate=0.01, valid_size=0.25, hidden1__units=100, hidden1__type=Rectifier, hidden0__type=Rectifier \n",
      "Initializing neural network with 3 layers, 50 inputs and 3 outputs.\n",
      "Training on dataset of 7,471 samples with 395,963 total size.\n",
      "Terminating after specified 5 total iterations..............                                                           ...........................................................                                                           ...........................................................                                                           ...........................................................                                                           ...........................................................                                                           \n",
      "[(7471L, 3L)]\n",
      "[CV]  n_iter=5, hidden0__units=100, learning_rate=0.01, valid_size=0.25, hidden1__units=100, hidden1__type=Rectifier, hidden0__type=Rectifier, score=0.887967 -  28.1s\n"
     ]
    },
    {
     "name": "stderr",
     "output_type": "stream",
     "text": [
      "[Parallel(n_jobs=1)]: Done  16 out of  16 | elapsed:  7.6min finished\n"
     ]
    },
    {
     "name": "stdout",
     "output_type": "stream",
     "text": [
      "Initializing neural network with 3 layers, 50 inputs and 3 outputs.\n",
      "Training on dataset of 14,942 samples with 791,926 total size.\n",
      "Terminating after specified 5 total iterations..............                                                           ...........................................................                                                           ...........................................................                                                           ...........................................................                                                           ...........................................................                                                           \n"
     ]
    },
    {
     "data": {
      "text/plain": [
       "GridSearchCV(cv=2, error_score='raise',\n",
       "       estimator=Classifier(batch_size=1, callback=None, debug=False, dropout_rate=None,\n",
       "      f_stable=0.001,\n",
       "      hidden0=<sknn.nn.Layer `Rectifier`: units=30, name=u'hidden0', frozen=False>,\n",
       "      hidden1=<sknn.nn.Layer `Rectifier`: units=30, name=u'hidden1', frozen=False>,\n",
       "      layers=[<sknn.nn.Layer...egularize=None, valid_set=None,\n",
       "      valid_size=0.0, verbose=True, warning=None, weight_decay=None),\n",
       "       fit_params={}, iid=True, n_jobs=1,\n",
       "       param_grid={'n_iter': [5], 'hidden0__units': [10, 100], 'learning_rate': [0.005, 0.01], 'valid_size': [0.25], 'hidden1__units': [10, 100], 'hidden1__type': ['Rectifier'], 'hidden0__type': ['Rectifier']},\n",
       "       pre_dispatch='2*n_jobs', refit=True, scoring='accuracy', verbose=10)"
      ]
     },
     "execution_count": 8,
     "metadata": {},
     "output_type": "execute_result"
    }
   ],
   "source": [
    "\n",
    "################ Method 2: Grid Search ############################\n",
    "\n",
    "#Note: another similar option that could save time is RandomSearch\n",
    "\n",
    "#Prepare data\n",
    "Y_train = Y_train.reshape(len(Y_train),)\n",
    "\n",
    "#Run grid search\n",
    "print\n",
    "print\n",
    "print \"Starting Grid Search\"\n",
    "gs = GridSearchCV(clsfr, param_grid={\n",
    "    'learning_rate': [.005,.01],#[.03,.05,.075,.1]\n",
    "    'hidden0__units': [10,100], #range(10,100,10),\n",
    "    'hidden1__units': [10,100], #range(10,100,10),\n",
    "    'hidden1__type': [\"Rectifier\"],#,\"Tanh\"],\n",
    "    'hidden0__type': [\"Rectifier\"],#,\"Tanh\"]\n",
    "    'n_iter': [5], #range(5,200,20)\n",
    "    'valid_size':[.25]\n",
    "    },\n",
    "    scoring = 'accuracy', verbose = 10, cv = 2)\n",
    "gs.fit(X_trainn, Y_train)\n"
   ]
  },
  {
   "cell_type": "code",
   "execution_count": 9,
   "metadata": {
    "collapsed": false
   },
   "outputs": [
    {
     "name": "stdout",
     "output_type": "stream",
     "text": [
      "Best: 0.890175 using {'n_iter': 5, 'hidden0__units': 100, 'learning_rate': 0.01, 'valid_size': 0.25, 'hidden1__units': 100, 'hidden1__type': 'Rectifier', 'hidden0__type': 'Rectifier'}\n"
     ]
    }
   ],
   "source": [
    "\n",
    "#Display best parameters and result\n",
    "print(\"Best: %f using %s\" % (gs.best_score_, gs.best_params_))\n"
   ]
  },
  {
   "cell_type": "code",
   "execution_count": 10,
   "metadata": {
    "collapsed": false
   },
   "outputs": [
    {
     "name": "stdout",
     "output_type": "stream",
     "text": [
      "Done writing results to CSV file.\n"
     ]
    }
   ],
   "source": [
    "##### Output Grid Search results to a csv\n",
    "\n",
    "#Prepare array\n",
    "arrayofdata = []\n",
    "labels = gs.grid_scores_[0][0].keys()\n",
    "labels.append('mean')\n",
    "arrayofdata.append(labels)\n",
    "\n",
    "#Add results to array\n",
    "for line in gs.grid_scores_:\n",
    "    rowdata = []\n",
    "    for key in gs.grid_scores_[0][0].keys():\n",
    "        rowdata.append(line[0][key])\n",
    "    rowdata.append(line[1])\n",
    "    arrayofdata.append(rowdata)\n",
    "\n",
    "#Write to csv\n",
    "with open('gridsearch_results.csv', 'wb') as mycsvfile:\n",
    "    thedatawriter = csv.writer(mycsvfile)\n",
    "    for row in arrayofdata:\n",
    "        thedatawriter.writerow(row)    \n",
    "        \n",
    "print \"Done writing results to CSV file.\""
   ]
  },
  {
   "cell_type": "markdown",
   "metadata": {
    "collapsed": true
   },
   "source": [
    "<h2>Conclusion</h2><br>\n",
    "\n",
    "Unsurprisingly, results from the for-loop indicate that as n_iter (epochs) increases, both accuracy and run time increase. Testing should be extended to higher levels of n_iter to identify the point of where the diminishing returns in accuracy are no longer worth the added run time.\n",
    "\n",
    "Among grid search results, the highest accuracy was achieved with the following parameter levels:<br><br>\n",
    "<b>Learning Rate: </b>.01<br>\n",
    "<b>Nodes in Layer 1: </b>100<br>\n",
    "<b>Nodes in Layer 2: </b>100<br>\n",
    "<br>\n",
    "Extending the experiment, more parameters should be varied across more levels."
   ]
  }
 ],
 "metadata": {
  "kernelspec": {
   "display_name": "Python 2",
   "language": "python",
   "name": "python2"
  },
  "language_info": {
   "codemirror_mode": {
    "name": "ipython",
    "version": 2
   },
   "file_extension": ".py",
   "mimetype": "text/x-python",
   "name": "python",
   "nbconvert_exporter": "python",
   "pygments_lexer": "ipython2",
   "version": "2.7.13"
  }
 },
 "nbformat": 4,
 "nbformat_minor": 2
}
